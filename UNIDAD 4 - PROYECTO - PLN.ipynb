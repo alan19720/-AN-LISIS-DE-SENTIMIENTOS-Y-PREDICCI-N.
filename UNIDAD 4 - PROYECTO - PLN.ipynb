{
 "cells": [
  {
   "cell_type": "markdown",
   "id": "b2132627",
   "metadata": {},
   "source": [
    "# UNIDAD 4 - PROYECTO: ANÁLISIS DE SENTIMIENTOS Y PREDICCIÓN."
   ]
  },
  {
   "cell_type": "markdown",
   "id": "7ae4a441",
   "metadata": {},
   "source": [
    "## ALUMNO: ALAN OMAR TAPIA CERVANTES\n",
    "## NÚMERO DE CONTROL: 19120243\n"
   ]
  },
  {
   "cell_type": "markdown",
   "id": "9336d5c6",
   "metadata": {},
   "source": [
    "## PRESENTACIÓN.\n",
    "\n",
    "El siguiente proyecto consiste en emplear el análisis de sentimientos para tratar de predecir las calificaciones de una serie.\n",
    "\n",
    "El dataset es sobre las calificaciones que recibió la adaptación al \"live-action\" el anime \"OnePiece\".\n",
    "\n",
    "El dataset contiene las reseñas que se recibieron en la plataforma de Netflix, el dataset contiene información como:\n",
    "\n",
    "* Título.\n",
    "* Reseña.\n",
    "* Fecha.\n",
    "* Calificación.\n"
   ]
  },
  {
   "cell_type": "markdown",
   "id": "2d9d06a4",
   "metadata": {},
   "source": [
    "## ETAPA 1: ANÁLISIS EXPLORATORIO DE LOS DATOS."
   ]
  },
  {
   "cell_type": "markdown",
   "id": "7580b46e",
   "metadata": {},
   "source": [
    "### Paso 1. Importe las librerías necesarias (pandas, numpy, seaborn, nltk, etc...)"
   ]
  },
  {
   "cell_type": "code",
   "execution_count": 1,
   "id": "a8e3f633",
   "metadata": {},
   "outputs": [],
   "source": [
    "# Espacio para realizar la importación de librerías\n",
    "import pandas as pd\n",
    "import seaborn as sns\n",
    "import matplotlib.pyplot as plt\n",
    "import numpy as np"
   ]
  },
  {
   "cell_type": "code",
   "execution_count": 2,
   "id": "cdcd9db5",
   "metadata": {},
   "outputs": [],
   "source": [
    "ubicacionArchivo = \"reviews.csv\"\n",
    "# Carga de un CSV a un archivo tipo DataFrame por medio de pandas.\n",
    "df = pd.read_csv(ubicacionArchivo)"
   ]
  },
  {
   "cell_type": "markdown",
   "id": "c5ede2f2",
   "metadata": {},
   "source": [
    "### Paso 2. Cargue y muestre información del dataset; muestre información estadística de las columnas numéricas."
   ]
  },
  {
   "cell_type": "code",
   "execution_count": 3,
   "id": "e20cf07c",
   "metadata": {},
   "outputs": [
    {
     "data": {
      "text/html": [
       "<div>\n",
       "<style scoped>\n",
       "    .dataframe tbody tr th:only-of-type {\n",
       "        vertical-align: middle;\n",
       "    }\n",
       "\n",
       "    .dataframe tbody tr th {\n",
       "        vertical-align: top;\n",
       "    }\n",
       "\n",
       "    .dataframe thead th {\n",
       "        text-align: right;\n",
       "    }\n",
       "</style>\n",
       "<table border=\"1\" class=\"dataframe\">\n",
       "  <thead>\n",
       "    <tr style=\"text-align: right;\">\n",
       "      <th></th>\n",
       "      <th>Rating</th>\n",
       "    </tr>\n",
       "  </thead>\n",
       "  <tbody>\n",
       "    <tr>\n",
       "      <th>count</th>\n",
       "      <td>870.000000</td>\n",
       "    </tr>\n",
       "    <tr>\n",
       "      <th>mean</th>\n",
       "      <td>8.517241</td>\n",
       "    </tr>\n",
       "    <tr>\n",
       "      <th>std</th>\n",
       "      <td>2.268826</td>\n",
       "    </tr>\n",
       "    <tr>\n",
       "      <th>min</th>\n",
       "      <td>1.000000</td>\n",
       "    </tr>\n",
       "    <tr>\n",
       "      <th>25%</th>\n",
       "      <td>8.000000</td>\n",
       "    </tr>\n",
       "    <tr>\n",
       "      <th>50%</th>\n",
       "      <td>9.000000</td>\n",
       "    </tr>\n",
       "    <tr>\n",
       "      <th>75%</th>\n",
       "      <td>10.000000</td>\n",
       "    </tr>\n",
       "    <tr>\n",
       "      <th>max</th>\n",
       "      <td>10.000000</td>\n",
       "    </tr>\n",
       "  </tbody>\n",
       "</table>\n",
       "</div>"
      ],
      "text/plain": [
       "           Rating\n",
       "count  870.000000\n",
       "mean     8.517241\n",
       "std      2.268826\n",
       "min      1.000000\n",
       "25%      8.000000\n",
       "50%      9.000000\n",
       "75%     10.000000\n",
       "max     10.000000"
      ]
     },
     "metadata": {},
     "output_type": "display_data"
    }
   ],
   "source": [
    "numeric_columns = df.select_dtypes(include=np.number)\n",
    "\n",
    "# Obtenemos la descripción estadística\n",
    "display(numeric_columns.describe())"
   ]
  },
  {
   "cell_type": "markdown",
   "id": "8cfd63df",
   "metadata": {},
   "source": [
    "### Paso 3. Identifique los datos nulos: muestre las filas que contienen datos nulos (no se deben tratar aún)."
   ]
  },
  {
   "cell_type": "code",
   "execution_count": 4,
   "id": "2e5155d6",
   "metadata": {},
   "outputs": [
    {
     "data": {
      "text/html": [
       "<div>\n",
       "<style scoped>\n",
       "    .dataframe tbody tr th:only-of-type {\n",
       "        vertical-align: middle;\n",
       "    }\n",
       "\n",
       "    .dataframe tbody tr th {\n",
       "        vertical-align: top;\n",
       "    }\n",
       "\n",
       "    .dataframe thead th {\n",
       "        text-align: right;\n",
       "    }\n",
       "</style>\n",
       "<table border=\"1\" class=\"dataframe\">\n",
       "  <thead>\n",
       "    <tr style=\"text-align: right;\">\n",
       "      <th></th>\n",
       "      <th>Title</th>\n",
       "      <th>Review</th>\n",
       "      <th>Date</th>\n",
       "      <th>Rating</th>\n",
       "    </tr>\n",
       "  </thead>\n",
       "  <tbody>\n",
       "    <tr>\n",
       "      <th>143</th>\n",
       "      <td>I didn't expect much, but I absolutely love it.</td>\n",
       "      <td>I admit, when I write reviews it's usually whe...</td>\n",
       "      <td>25 September 2023</td>\n",
       "      <td>NaN</td>\n",
       "    </tr>\n",
       "    <tr>\n",
       "      <th>145</th>\n",
       "      <td>Thank you for heading this, Oda!</td>\n",
       "      <td>Fun fact: Eiichiro Oda, the creator of the man...</td>\n",
       "      <td>12 September 2023</td>\n",
       "      <td>NaN</td>\n",
       "    </tr>\n",
       "    <tr>\n",
       "      <th>447</th>\n",
       "      <td>DIFFERENT MEDIA MEANS DIFFERENT STORYTELLING A...</td>\n",
       "      <td>Just because there are many scenes in the mang...</td>\n",
       "      <td>1 September 2023</td>\n",
       "      <td>NaN</td>\n",
       "    </tr>\n",
       "    <tr>\n",
       "      <th>500</th>\n",
       "      <td>I'm not sure about rating yet!</td>\n",
       "      <td>I like the characters so far except Sanji's ha...</td>\n",
       "      <td>4 September 2023</td>\n",
       "      <td>NaN</td>\n",
       "    </tr>\n",
       "    <tr>\n",
       "      <th>520</th>\n",
       "      <td>Great adaptation!</td>\n",
       "      <td>One Piece somehow managed to pull it off: a le...</td>\n",
       "      <td>8 September 2023</td>\n",
       "      <td>NaN</td>\n",
       "    </tr>\n",
       "    <tr>\n",
       "      <th>540</th>\n",
       "      <td>My disappointment is immeasurable</td>\n",
       "      <td>As a life long fan of One Piece I don't know w...</td>\n",
       "      <td>31 August 2023</td>\n",
       "      <td>NaN</td>\n",
       "    </tr>\n",
       "    <tr>\n",
       "      <th>569</th>\n",
       "      <td>A must watch</td>\n",
       "      <td>If you browse there are series with more actio...</td>\n",
       "      <td>2 September 2023</td>\n",
       "      <td>NaN</td>\n",
       "    </tr>\n",
       "    <tr>\n",
       "      <th>782</th>\n",
       "      <td>Emily Rudd's hair as Nami</td>\n",
       "      <td>Everything went so right with casting and thei...</td>\n",
       "      <td>1 September 2023</td>\n",
       "      <td>NaN</td>\n",
       "    </tr>\n",
       "  </tbody>\n",
       "</table>\n",
       "</div>"
      ],
      "text/plain": [
       "                                                 Title  \\\n",
       "143    I didn't expect much, but I absolutely love it.   \n",
       "145                   Thank you for heading this, Oda!   \n",
       "447  DIFFERENT MEDIA MEANS DIFFERENT STORYTELLING A...   \n",
       "500                     I'm not sure about rating yet!   \n",
       "520                                  Great adaptation!   \n",
       "540                  My disappointment is immeasurable   \n",
       "569                                       A must watch   \n",
       "782                          Emily Rudd's hair as Nami   \n",
       "\n",
       "                                                Review               Date  \\\n",
       "143  I admit, when I write reviews it's usually whe...  25 September 2023   \n",
       "145  Fun fact: Eiichiro Oda, the creator of the man...  12 September 2023   \n",
       "447  Just because there are many scenes in the mang...   1 September 2023   \n",
       "500  I like the characters so far except Sanji's ha...   4 September 2023   \n",
       "520  One Piece somehow managed to pull it off: a le...   8 September 2023   \n",
       "540  As a life long fan of One Piece I don't know w...     31 August 2023   \n",
       "569  If you browse there are series with more actio...   2 September 2023   \n",
       "782  Everything went so right with casting and thei...   1 September 2023   \n",
       "\n",
       "     Rating  \n",
       "143     NaN  \n",
       "145     NaN  \n",
       "447     NaN  \n",
       "500     NaN  \n",
       "520     NaN  \n",
       "540     NaN  \n",
       "569     NaN  \n",
       "782     NaN  "
      ]
     },
     "metadata": {},
     "output_type": "display_data"
    }
   ],
   "source": [
    "# Filtramos las filas que contienen valores nulos\n",
    "rows_with_nulls = df[df.isnull().any(axis=1)]\n",
    "\n",
    "# Mostramos las filas con valores nulos\n",
    "display(rows_with_nulls)"
   ]
  },
  {
   "cell_type": "markdown",
   "id": "2d2ed5a9",
   "metadata": {},
   "source": [
    "### Paso 4. Muestre la distribución de la columna \"Rating\", haga un análisis de la distribución."
   ]
  },
  {
   "cell_type": "code",
   "execution_count": 5,
   "id": "05923cf8",
   "metadata": {},
   "outputs": [
    {
     "data": {
      "image/png": "[encoded data removed]",
      "text/plain": [
       "<Figure size 640x480 with 1 Axes>"
      ]
     },
     "metadata": {},
     "output_type": "display_data"
    }
   ],
   "source": [
    "# Visualización de la distribución usando un histograma\n",
    "sns.histplot(data=df, x=\"Rating\", kde=True)\n",
    "plt.title(\"Distribución de la columna 'Rating'\")\n",
    "plt.xlabel(\"Rating\")\n",
    "plt.ylabel(\"Frecuencia\")\n",
    "plt.show()"
   ]
  },
  {
   "cell_type": "markdown",
   "id": "652aca51",
   "metadata": {},
   "source": [
    "### Paso 5. Identifique si alguna de las columnas se puede convertir en categórica."
   ]
  },
  {
   "cell_type": "code",
   "execution_count": 6,
   "id": "916bbf6e",
   "metadata": {},
   "outputs": [
    {
     "data": {
      "text/html": [
       "<div>\n",
       "<style scoped>\n",
       "    .dataframe tbody tr th:only-of-type {\n",
       "        vertical-align: middle;\n",
       "    }\n",
       "\n",
       "    .dataframe tbody tr th {\n",
       "        vertical-align: top;\n",
       "    }\n",
       "\n",
       "    .dataframe thead th {\n",
       "        text-align: right;\n",
       "    }\n",
       "</style>\n",
       "<table border=\"1\" class=\"dataframe\">\n",
       "  <thead>\n",
       "    <tr style=\"text-align: right;\">\n",
       "      <th></th>\n",
       "      <th>Title</th>\n",
       "      <th>Review</th>\n",
       "      <th>Date</th>\n",
       "      <th>Rating</th>\n",
       "    </tr>\n",
       "  </thead>\n",
       "  <tbody>\n",
       "    <tr>\n",
       "      <th>0</th>\n",
       "      <td>Never seen the anime and still enjoyed it</td>\n",
       "      <td>I have to admit that I've never watched any of...</td>\n",
       "      <td>4 September 2023</td>\n",
       "      <td>8.0</td>\n",
       "    </tr>\n",
       "    <tr>\n",
       "      <th>1</th>\n",
       "      <td>Not My Kind of Show. But This I Loved.</td>\n",
       "      <td>I'm a 60yo man &amp; old school like the The Marin...</td>\n",
       "      <td>4 September 2023</td>\n",
       "      <td>9.0</td>\n",
       "    </tr>\n",
       "    <tr>\n",
       "      <th>2</th>\n",
       "      <td>I'm Shocked By How Good This Is...</td>\n",
       "      <td>Every live action anime that I've briefly seen...</td>\n",
       "      <td>1 September 2023</td>\n",
       "      <td>9.0</td>\n",
       "    </tr>\n",
       "    <tr>\n",
       "      <th>3</th>\n",
       "      <td>See Netflix?? You CAN do it...</td>\n",
       "      <td>This is bar none one of the best live-action a...</td>\n",
       "      <td>4 September 2023</td>\n",
       "      <td>10.0</td>\n",
       "    </tr>\n",
       "    <tr>\n",
       "      <th>4</th>\n",
       "      <td>WE WANT SEASON 2</td>\n",
       "      <td>Being a one piece fan myself, I was a bit inse...</td>\n",
       "      <td>31 August 2023</td>\n",
       "      <td>10.0</td>\n",
       "    </tr>\n",
       "    <tr>\n",
       "      <th>...</th>\n",
       "      <td>...</td>\n",
       "      <td>...</td>\n",
       "      <td>...</td>\n",
       "      <td>...</td>\n",
       "    </tr>\n",
       "    <tr>\n",
       "      <th>873</th>\n",
       "      <td>Most faithful and high quality adaptation sinc...</td>\n",
       "      <td>I haven't written a review in a very long time...</td>\n",
       "      <td>2 September 2023</td>\n",
       "      <td>10.0</td>\n",
       "    </tr>\n",
       "    <tr>\n",
       "      <th>874</th>\n",
       "      <td>Me and my son loving it! The best entertaining...</td>\n",
       "      <td>This is my first IMDb review.\\n\\nI've watched ...</td>\n",
       "      <td>1 September 2023</td>\n",
       "      <td>9.0</td>\n",
       "    </tr>\n",
       "    <tr>\n",
       "      <th>875</th>\n",
       "      <td>A very good adaptation to the famous anime</td>\n",
       "      <td>An absolute gem! This show is a must-watch, an...</td>\n",
       "      <td>3 September 2023</td>\n",
       "      <td>10.0</td>\n",
       "    </tr>\n",
       "    <tr>\n",
       "      <th>876</th>\n",
       "      <td>This wonderful thing...</td>\n",
       "      <td>I recently dived (no pun intended) into the wo...</td>\n",
       "      <td>2 September 2023</td>\n",
       "      <td>10.0</td>\n",
       "    </tr>\n",
       "    <tr>\n",
       "      <th>877</th>\n",
       "      <td>Best adaptation so far</td>\n",
       "      <td>I watched first eposide and I can say they did...</td>\n",
       "      <td>1 September 2023</td>\n",
       "      <td>9.0</td>\n",
       "    </tr>\n",
       "  </tbody>\n",
       "</table>\n",
       "<p>878 rows × 4 columns</p>\n",
       "</div>"
      ],
      "text/plain": [
       "                                                 Title  \\\n",
       "0            Never seen the anime and still enjoyed it   \n",
       "1               Not My Kind of Show. But This I Loved.   \n",
       "2                   I'm Shocked By How Good This Is...   \n",
       "3                       See Netflix?? You CAN do it...   \n",
       "4                                     WE WANT SEASON 2   \n",
       "..                                                 ...   \n",
       "873  Most faithful and high quality adaptation sinc...   \n",
       "874  Me and my son loving it! The best entertaining...   \n",
       "875         A very good adaptation to the famous anime   \n",
       "876                            This wonderful thing...   \n",
       "877                             Best adaptation so far   \n",
       "\n",
       "                                                Review              Date  \\\n",
       "0    I have to admit that I've never watched any of...  4 September 2023   \n",
       "1    I'm a 60yo man & old school like the The Marin...  4 September 2023   \n",
       "2    Every live action anime that I've briefly seen...  1 September 2023   \n",
       "3    This is bar none one of the best live-action a...  4 September 2023   \n",
       "4    Being a one piece fan myself, I was a bit inse...    31 August 2023   \n",
       "..                                                 ...               ...   \n",
       "873  I haven't written a review in a very long time...  2 September 2023   \n",
       "874  This is my first IMDb review.\\n\\nI've watched ...  1 September 2023   \n",
       "875  An absolute gem! This show is a must-watch, an...  3 September 2023   \n",
       "876  I recently dived (no pun intended) into the wo...  2 September 2023   \n",
       "877  I watched first eposide and I can say they did...  1 September 2023   \n",
       "\n",
       "     Rating  \n",
       "0       8.0  \n",
       "1       9.0  \n",
       "2       9.0  \n",
       "3      10.0  \n",
       "4      10.0  \n",
       "..      ...  \n",
       "873    10.0  \n",
       "874     9.0  \n",
       "875    10.0  \n",
       "876    10.0  \n",
       "877     9.0  \n",
       "\n",
       "[878 rows x 4 columns]"
      ]
     },
     "metadata": {},
     "output_type": "display_data"
    }
   ],
   "source": [
    "display(df)"
   ]
  },
  {
   "cell_type": "code",
   "execution_count": 7,
   "id": "d30a996d",
   "metadata": {},
   "outputs": [
    {
     "name": "stdout",
     "output_type": "stream",
     "text": [
      "[ 8.  9. 10.  7.  6.  5.  2.  1.  4.  3. nan]\n"
     ]
    }
   ],
   "source": [
    "print(df['Rating'].unique())"
   ]
  },
  {
   "cell_type": "markdown",
   "id": "2a2c72c4",
   "metadata": {},
   "source": [
    " Analizando las columnas nos percatamos que la columna reating podria hacerce categorica. "
   ]
  },
  {
   "cell_type": "markdown",
   "id": "47b59718",
   "metadata": {},
   "source": [
    "## ETAPA 2: ANÁLISIS DE SENTIMIENTOS."
   ]
  },
  {
   "cell_type": "markdown",
   "id": "7c6418ba",
   "metadata": {},
   "source": [
    "### Paso 1. Muestre las primeras 10 filas del dataset con las columnas \"Rating\" y \"Review\", haga un análisis rápido de esa información.\n"
   ]
  },
  {
   "cell_type": "code",
   "execution_count": 8,
   "id": "e5c4b3cc",
   "metadata": {},
   "outputs": [
    {
     "data": {
      "text/html": [
       "<div>\n",
       "<style scoped>\n",
       "    .dataframe tbody tr th:only-of-type {\n",
       "        vertical-align: middle;\n",
       "    }\n",
       "\n",
       "    .dataframe tbody tr th {\n",
       "        vertical-align: top;\n",
       "    }\n",
       "\n",
       "    .dataframe thead th {\n",
       "        text-align: right;\n",
       "    }\n",
       "</style>\n",
       "<table border=\"1\" class=\"dataframe\">\n",
       "  <thead>\n",
       "    <tr style=\"text-align: right;\">\n",
       "      <th></th>\n",
       "      <th>Rating</th>\n",
       "      <th>Review</th>\n",
       "    </tr>\n",
       "  </thead>\n",
       "  <tbody>\n",
       "    <tr>\n",
       "      <th>0</th>\n",
       "      <td>8.0</td>\n",
       "      <td>I have to admit that I've never watched any of...</td>\n",
       "    </tr>\n",
       "    <tr>\n",
       "      <th>1</th>\n",
       "      <td>9.0</td>\n",
       "      <td>I'm a 60yo man &amp; old school like the The Marin...</td>\n",
       "    </tr>\n",
       "    <tr>\n",
       "      <th>2</th>\n",
       "      <td>9.0</td>\n",
       "      <td>Every live action anime that I've briefly seen...</td>\n",
       "    </tr>\n",
       "    <tr>\n",
       "      <th>3</th>\n",
       "      <td>10.0</td>\n",
       "      <td>This is bar none one of the best live-action a...</td>\n",
       "    </tr>\n",
       "    <tr>\n",
       "      <th>4</th>\n",
       "      <td>10.0</td>\n",
       "      <td>Being a one piece fan myself, I was a bit inse...</td>\n",
       "    </tr>\n",
       "    <tr>\n",
       "      <th>5</th>\n",
       "      <td>10.0</td>\n",
       "      <td>GREAT ADAPTATION! As an old-school fan (since ...</td>\n",
       "    </tr>\n",
       "    <tr>\n",
       "      <th>6</th>\n",
       "      <td>9.0</td>\n",
       "      <td>My kids play and watch One Piece anime and lov...</td>\n",
       "    </tr>\n",
       "    <tr>\n",
       "      <th>7</th>\n",
       "      <td>10.0</td>\n",
       "      <td>I was so surprised that Netflix made something...</td>\n",
       "    </tr>\n",
       "    <tr>\n",
       "      <th>8</th>\n",
       "      <td>8.0</td>\n",
       "      <td>Parenthetically I don't know anything about th...</td>\n",
       "    </tr>\n",
       "    <tr>\n",
       "      <th>9</th>\n",
       "      <td>10.0</td>\n",
       "      <td>Initially I was apprehensive because of anime ...</td>\n",
       "    </tr>\n",
       "  </tbody>\n",
       "</table>\n",
       "</div>"
      ],
      "text/plain": [
       "   Rating                                             Review\n",
       "0     8.0  I have to admit that I've never watched any of...\n",
       "1     9.0  I'm a 60yo man & old school like the The Marin...\n",
       "2     9.0  Every live action anime that I've briefly seen...\n",
       "3    10.0  This is bar none one of the best live-action a...\n",
       "4    10.0  Being a one piece fan myself, I was a bit inse...\n",
       "5    10.0  GREAT ADAPTATION! As an old-school fan (since ...\n",
       "6     9.0  My kids play and watch One Piece anime and lov...\n",
       "7    10.0  I was so surprised that Netflix made something...\n",
       "8     8.0  Parenthetically I don't know anything about th...\n",
       "9    10.0  Initially I was apprehensive because of anime ..."
      ]
     },
     "metadata": {},
     "output_type": "display_data"
    }
   ],
   "source": [
    "display(df[['Rating', 'Review']].head(10))"
   ]
  },
  {
   "cell_type": "markdown",
   "id": "0381b65f",
   "metadata": {},
   "source": [
    "Procesando la información detectamos que se habla de notas o articulos."
   ]
  },
  {
   "cell_type": "markdown",
   "id": "d0b95769",
   "metadata": {},
   "source": [
    "### Paso 2. Haga una función que se encargue del pre-procesamiento:\n",
    "#### - Genere los tokens.\n",
    "#### - Filtre las palabras de parada.\n",
    "#### - Obtenga el lema de las palabras y guárdelo en una lista.\n",
    "#### - Retorne la lista en forma de una cadena, para ello debe unir los elementos de la lista mediante un espacio."
   ]
  },
  {
   "cell_type": "code",
   "execution_count": 47,
   "id": "6b9a8224",
   "metadata": {},
   "outputs": [
    {
     "name": "stderr",
     "output_type": "stream",
     "text": [
      "[nltk_data] Downloading package punkt to /Users/alantapia/nltk_data...\n",
      "[nltk_data]   Package punkt is already up-to-date!\n",
      "[nltk_data] Downloading package stopwords to\n",
      "[nltk_data]     /Users/alantapia/nltk_data...\n",
      "[nltk_data]   Package stopwords is already up-to-date!\n"
     ]
    },
    {
     "name": "stdout",
     "output_type": "stream",
     "text": [
      "ejemplo\n"
     ]
    }
   ],
   "source": [
    "import spacy\n",
    "from nltk.corpus import stopwords\n",
    "from nltk.tokenize import word_tokenize\n",
    "import string\n",
    "\n",
    "# Descargamos recursos de NLTK \n",
    "import nltk\n",
    "nltk.download('punkt')\n",
    "nltk.download('stopwords')\n",
    "\n",
    "def preprocess_text(text):\n",
    "    # Cargamos el modelo de Spacy para lematización\n",
    "    nlp = spacy.load(\"en_core_web_sm\")\n",
    "    \n",
    "    # Tokenización con NLTK\n",
    "    tokens = word_tokenize(text.lower())  # Convierte a minúsculas y tokeniza\n",
    "    \n",
    "    # Eliminación de palabras de parada y signos de puntuación\n",
    "    stop_words = set(stopwords.words('english'))\n",
    "    punctuation = set(string.punctuation)\n",
    "    \n",
    "    filtered_tokens = [word for word in tokens if word not in stop_words and word not in punctuation]\n",
    "    \n",
    "    # Lematizacines con Spacy\n",
    "    lemmas = [token.lemma_ for token in nlp(\" \".join(filtered_tokens))]\n",
    "    \n",
    "    # Retornamos los lemas como una cadena de texto\n",
    "    return \" \".join(lemmas)\n",
    "\n",
    "\n",
    "texto_ejemplo = \" ejemplo.\"\n",
    "texto_procesado = preprocess_text(texto_ejemplo)\n",
    "print(texto_procesado)\n"
   ]
  },
  {
   "cell_type": "markdown",
   "id": "56aa8ba7",
   "metadata": {},
   "source": [
    "### Paso 3. Aplique la función creada para obtener el lema de las columnas \"Review\" y \"Title\", guárde el resultado en nuevas columnas dentro del dataframe original (por ejemplo: \"ReviewText\", \"TitleText\").\n"
   ]
  },
  {
   "cell_type": "code",
   "execution_count": 10,
   "id": "1deebdb8",
   "metadata": {},
   "outputs": [],
   "source": [
    "# Cargamos el modelo \n",
    "nlp = spacy.load('en_core_web_sm')\n",
    "\n",
    "# Tu función de preprocesamiento\n",
    "def preprocess(text):\n",
    "    doc = nlp(text)\n",
    "    lemmas = [token.lemma_ for token in doc if not token.is_stop]\n",
    "    return ' '.join(lemmas)\n",
    "\n",
    "# Aplicamos la función a las columnas \"Review\" y \"Title\"\n",
    "df['ReviewText'] = df['Review'].apply(lambda x: preprocess(x))\n",
    "df['TitleText'] = df['Title'].apply(lambda x: preprocess(x))"
   ]
  },
  {
   "cell_type": "markdown",
   "id": "675bd620",
   "metadata": {},
   "source": [
    "### Paso 4. Haga una función para obtener el sentimiento de las palabras, para ello puede utilizar el SentimentIntensityAnalizer() y su función \"polarity_scores()\". Al final debe retornar el puntaje de sentimiento."
   ]
  },
  {
   "cell_type": "code",
   "execution_count": 11,
   "id": "799b09cc",
   "metadata": {},
   "outputs": [
    {
     "name": "stderr",
     "output_type": "stream",
     "text": [
      "[nltk_data] Downloading package vader_lexicon to\n",
      "[nltk_data]     /Users/alantapia/nltk_data...\n",
      "[nltk_data]   Package vader_lexicon is already up-to-date!\n"
     ]
    }
   ],
   "source": [
    "from nltk.sentiment import SentimentIntensityAnalyzer\n",
    "nltk.download('vader_lexicon')\n",
    "\n",
    "# Inicializamos el analizador de sentimiento\n",
    "sid = SentimentIntensityAnalyzer()\n",
    "\n",
    "# Función para obtener el puntaje de sentimiento\n",
    "def get_sentiment_score(text):\n",
    "    # Obtener los puntajes de sentimiento\n",
    "    scores = sid.polarity_scores(text)\n",
    "    return scores['compound']  \n",
    "\n",
    "# Aplicamos la función a una columna específica\n",
    "df['SentimentScore'] = df['ReviewText'].apply(get_sentiment_score)\n"
   ]
  },
  {
   "cell_type": "markdown",
   "id": "ca8506eb",
   "metadata": {},
   "source": [
    "### Paso 5. Aplique la función creada para obtener el sentimiento en las columnas creadas en el paso 3, guarde el resultado en un par de columnas nuevas (por ejemplo: \"ReviewSentiment\", \"TitleSentiment\")."
   ]
  },
  {
   "cell_type": "code",
   "execution_count": 12,
   "id": "4bdf75ab",
   "metadata": {},
   "outputs": [],
   "source": [
    "# Aplicamos la función a las columnas ReviewText y TitleText\n",
    "df['ReviewSentiment'] = df['ReviewText'].apply(get_sentiment_score)\n",
    "df['TitleSentiment'] = df['TitleText'].apply(get_sentiment_score)\n"
   ]
  },
  {
   "cell_type": "markdown",
   "id": "1ba12c67",
   "metadata": {},
   "source": [
    "### Paso 6. Prepare un dataframe con las columnas originales + las columnas creadas previamente, tendrían que haber 8 columnas, 3 de ellas deben ser numéricas (incluyendo \"Rating\")."
   ]
  },
  {
   "cell_type": "code",
   "execution_count": 13,
   "id": "d6f875c9",
   "metadata": {},
   "outputs": [
    {
     "data": {
      "text/html": [
       "<div>\n",
       "<style scoped>\n",
       "    .dataframe tbody tr th:only-of-type {\n",
       "        vertical-align: middle;\n",
       "    }\n",
       "\n",
       "    .dataframe tbody tr th {\n",
       "        vertical-align: top;\n",
       "    }\n",
       "\n",
       "    .dataframe thead th {\n",
       "        text-align: right;\n",
       "    }\n",
       "</style>\n",
       "<table border=\"1\" class=\"dataframe\">\n",
       "  <thead>\n",
       "    <tr style=\"text-align: right;\">\n",
       "      <th></th>\n",
       "      <th>Rating</th>\n",
       "      <th>Review</th>\n",
       "      <th>Title</th>\n",
       "      <th>ReviewText</th>\n",
       "      <th>TitleText</th>\n",
       "      <th>ReviewSentiment</th>\n",
       "      <th>TitleSentiment</th>\n",
       "    </tr>\n",
       "  </thead>\n",
       "  <tbody>\n",
       "    <tr>\n",
       "      <th>0</th>\n",
       "      <td>8.0</td>\n",
       "      <td>I have to admit that I've never watched any of...</td>\n",
       "      <td>Never seen the anime and still enjoyed it</td>\n",
       "      <td>admit watch animate Piece hear matter . big fa...</td>\n",
       "      <td>see anime enjoy</td>\n",
       "      <td>0.9080</td>\n",
       "      <td>0.4939</td>\n",
       "    </tr>\n",
       "    <tr>\n",
       "      <th>1</th>\n",
       "      <td>9.0</td>\n",
       "      <td>I'm a 60yo man &amp; old school like the The Marin...</td>\n",
       "      <td>Not My Kind of Show. But This I Loved.</td>\n",
       "      <td>60yo man &amp; old school like Marine Admiral 😄 . ...</td>\n",
       "      <td>kind . love .</td>\n",
       "      <td>0.9896</td>\n",
       "      <td>0.8225</td>\n",
       "    </tr>\n",
       "    <tr>\n",
       "      <th>2</th>\n",
       "      <td>9.0</td>\n",
       "      <td>Every live action anime that I've briefly seen...</td>\n",
       "      <td>I'm Shocked By How Good This Is...</td>\n",
       "      <td>live action anime briefly see short disaster ,...</td>\n",
       "      <td>shocked good ...</td>\n",
       "      <td>0.9102</td>\n",
       "      <td>0.1531</td>\n",
       "    </tr>\n",
       "    <tr>\n",
       "      <th>3</th>\n",
       "      <td>10.0</td>\n",
       "      <td>This is bar none one of the best live-action a...</td>\n",
       "      <td>See Netflix?? You CAN do it...</td>\n",
       "      <td>bar good live - action adaption animate source...</td>\n",
       "      <td>Netflix ? ? ...</td>\n",
       "      <td>0.9022</td>\n",
       "      <td>0.0000</td>\n",
       "    </tr>\n",
       "    <tr>\n",
       "      <th>4</th>\n",
       "      <td>10.0</td>\n",
       "      <td>Being a one piece fan myself, I was a bit inse...</td>\n",
       "      <td>WE WANT SEASON 2</td>\n",
       "      <td>piece fan , bit insecure start series boy get ...</td>\n",
       "      <td>want season 2</td>\n",
       "      <td>0.9274</td>\n",
       "      <td>0.0772</td>\n",
       "    </tr>\n",
       "  </tbody>\n",
       "</table>\n",
       "</div>"
      ],
      "text/plain": [
       "   Rating                                             Review  \\\n",
       "0     8.0  I have to admit that I've never watched any of...   \n",
       "1     9.0  I'm a 60yo man & old school like the The Marin...   \n",
       "2     9.0  Every live action anime that I've briefly seen...   \n",
       "3    10.0  This is bar none one of the best live-action a...   \n",
       "4    10.0  Being a one piece fan myself, I was a bit inse...   \n",
       "\n",
       "                                       Title  \\\n",
       "0  Never seen the anime and still enjoyed it   \n",
       "1     Not My Kind of Show. But This I Loved.   \n",
       "2         I'm Shocked By How Good This Is...   \n",
       "3             See Netflix?? You CAN do it...   \n",
       "4                           WE WANT SEASON 2   \n",
       "\n",
       "                                          ReviewText         TitleText  \\\n",
       "0  admit watch animate Piece hear matter . big fa...   see anime enjoy   \n",
       "1  60yo man & old school like Marine Admiral 😄 . ...     kind . love .   \n",
       "2  live action anime briefly see short disaster ,...  shocked good ...   \n",
       "3  bar good live - action adaption animate source...   Netflix ? ? ...   \n",
       "4  piece fan , bit insecure start series boy get ...     want season 2   \n",
       "\n",
       "   ReviewSentiment  TitleSentiment  \n",
       "0           0.9080          0.4939  \n",
       "1           0.9896          0.8225  \n",
       "2           0.9102          0.1531  \n",
       "3           0.9022          0.0000  \n",
       "4           0.9274          0.0772  "
      ]
     },
     "metadata": {},
     "output_type": "display_data"
    }
   ],
   "source": [
    "# Creamos un nuevo dataframe con las columnas originales y las creadas previamente\n",
    "df_new = df[['Rating', 'Review', 'Title']].copy()  # Columnas originales\n",
    "df_new['ReviewText'] = df['ReviewText']  # Columna de texto lematizado de la revisión\n",
    "df_new['TitleText'] = df['TitleText']  # Columna de texto lematizado del título\n",
    "df_new['ReviewSentiment'] = df['ReviewSentiment']  # Puntaje de sentimiento de la revisión\n",
    "df_new['TitleSentiment'] = df['TitleSentiment']  # Puntaje de sentimiento del título\n",
    "\n",
    "# Mostramos las primeras filas del nuevo dataframe\n",
    "display(df_new.head())\n"
   ]
  },
  {
   "cell_type": "markdown",
   "id": "fcfec7fb",
   "metadata": {},
   "source": [
    "## ETAPA 3: MACHINE LEARNING.\n",
    "\n",
    "### Paso 1. Asigne a la variable X las columnas numéricas menos \"Rating\"; asigne a la variable y la columna \"Rating\", seleccione únicamente las filas sin datos nulos (no elimine ni trate las filas con datos nulos, esas se usarán para predecir)"
   ]
  },
  {
   "cell_type": "code",
   "execution_count": 14,
   "id": "e5b15807",
   "metadata": {},
   "outputs": [],
   "source": [
    "# Creamos X con columnas numéricas excepto 'Rating' y y con la columna 'Rating'\n",
    "X = df.drop(columns=['Rating']).select_dtypes(include='number')  # Columnas numéricas\n",
    "y = df['Rating']  # Columna 'Rating'\n",
    "\n",
    "# Obtenemos índices de las filas sin datos nulos en la columna 'Rating'\n",
    "rows_with_rating = df['Rating'].notnull()\n",
    "\n",
    "# Filtramos X e y para obtener solo las filas sin datos nulos en 'Rating'\n",
    "X = X[rows_with_rating]\n",
    "y = y[rows_with_rating]\n"
   ]
  },
  {
   "cell_type": "markdown",
   "id": "5cc3559b",
   "metadata": {},
   "source": [
    "### Paso 2. Divida en una muestra de entrenamiento y en una muestra de pruebas, estratifique en base a la proporción de la variable objetivo. El tamaño de la muestra para entrenamiento debe ser del 85%. Asigne una semilla para poder reproducir los resultados.\n"
   ]
  },
  {
   "cell_type": "code",
   "execution_count": 15,
   "id": "e2264e8f",
   "metadata": {},
   "outputs": [],
   "source": [
    "from sklearn.model_selection import train_test_split\n",
    "\n",
    "# Dividimos en conjunto de entrenamiento y prueba (85% para entrenamiento)\n",
    "X_train, X_test, y_train, y_test = train_test_split(X, y, test_size=0.15, stratify=y, random_state=42)\n"
   ]
  },
  {
   "cell_type": "markdown",
   "id": "a52ebd61",
   "metadata": {},
   "source": [
    "### Paso 3. Entrene los siguientes modelos:\n",
    "#### - KNN para clasificación\n",
    "#### - SVM para clasificación\n",
    "#### - RandomForest para clasificación"
   ]
  },
  {
   "cell_type": "code",
   "execution_count": 16,
   "id": "5d9fb2f5",
   "metadata": {},
   "outputs": [
    {
     "data": {
      "text/html": [
       "<style>#sk-container-id-1 {color: black;}#sk-container-id-1 pre{padding: 0;}#sk-container-id-1 div.sk-toggleable {background-color: white;}#sk-container-id-1 label.sk-toggleable__label {cursor: pointer;display: block;width: 100%;margin-bottom: 0;padding: 0.3em;box-sizing: border-box;text-align: center;}#sk-container-id-1 label.sk-toggleable__label-arrow:before {content: \"▸\";float: left;margin-right: 0.25em;color: #696969;}#sk-container-id-1 label.sk-toggleable__label-arrow:hover:before {color: black;}#sk-container-id-1 div.sk-estimator:hover label.sk-toggleable__label-arrow:before {color: black;}#sk-container-id-1 div.sk-toggleable__content {max-height: 0;max-width: 0;overflow: hidden;text-align: left;background-color: #f0f8ff;}#sk-container-id-1 div.sk-toggleable__content pre {margin: 0.2em;color: black;border-radius: 0.25em;background-color: #f0f8ff;}#sk-container-id-1 input.sk-toggleable__control:checked~div.sk-toggleable__content {max-height: 200px;max-width: 100%;overflow: auto;}#sk-container-id-1 input.sk-toggleable__control:checked~label.sk-toggleable__label-arrow:before {content: \"▾\";}#sk-container-id-1 div.sk-estimator input.sk-toggleable__control:checked~label.sk-toggleable__label {background-color: #d4ebff;}#sk-container-id-1 div.sk-label input.sk-toggleable__control:checked~label.sk-toggleable__label {background-color: #d4ebff;}#sk-container-id-1 input.sk-hidden--visually {border: 0;clip: rect(1px 1px 1px 1px);clip: rect(1px, 1px, 1px, 1px);height: 1px;margin: -1px;overflow: hidden;padding: 0;position: absolute;width: 1px;}#sk-container-id-1 div.sk-estimator {font-family: monospace;background-color: #f0f8ff;border: 1px dotted black;border-radius: 0.25em;box-sizing: border-box;margin-bottom: 0.5em;}#sk-container-id-1 div.sk-estimator:hover {background-color: #d4ebff;}#sk-container-id-1 div.sk-parallel-item::after {content: \"\";width: 100%;border-bottom: 1px solid gray;flex-grow: 1;}#sk-container-id-1 div.sk-label:hover label.sk-toggleable__label {background-color: #d4ebff;}#sk-container-id-1 div.sk-serial::before {content: \"\";position: absolute;border-left: 1px solid gray;box-sizing: border-box;top: 0;bottom: 0;left: 50%;z-index: 0;}#sk-container-id-1 div.sk-serial {display: flex;flex-direction: column;align-items: center;background-color: white;padding-right: 0.2em;padding-left: 0.2em;position: relative;}#sk-container-id-1 div.sk-item {position: relative;z-index: 1;}#sk-container-id-1 div.sk-parallel {display: flex;align-items: stretch;justify-content: center;background-color: white;position: relative;}#sk-container-id-1 div.sk-item::before, #sk-container-id-1 div.sk-parallel-item::before {content: \"\";position: absolute;border-left: 1px solid gray;box-sizing: border-box;top: 0;bottom: 0;left: 50%;z-index: -1;}#sk-container-id-1 div.sk-parallel-item {display: flex;flex-direction: column;z-index: 1;position: relative;background-color: white;}#sk-container-id-1 div.sk-parallel-item:first-child::after {align-self: flex-end;width: 50%;}#sk-container-id-1 div.sk-parallel-item:last-child::after {align-self: flex-start;width: 50%;}#sk-container-id-1 div.sk-parallel-item:only-child::after {width: 0;}#sk-container-id-1 div.sk-dashed-wrapped {border: 1px dashed gray;margin: 0 0.4em 0.5em 0.4em;box-sizing: border-box;padding-bottom: 0.4em;background-color: white;}#sk-container-id-1 div.sk-label label {font-family: monospace;font-weight: bold;display: inline-block;line-height: 1.2em;}#sk-container-id-1 div.sk-label-container {text-align: center;}#sk-container-id-1 div.sk-container {/* jupyter's `normalize.less` sets `[hidden] { display: none; }` but bootstrap.min.css set `[hidden] { display: none !important; }` so we also need the `!important` here to be able to override the default hidden behavior on the sphinx rendered scikit-learn.org. See: https://github.com/scikit-learn/scikit-learn/issues/21755 */display: inline-block !important;position: relative;}#sk-container-id-1 div.sk-text-repr-fallback {display: none;}</style><div id=\"sk-container-id-1\" class=\"sk-top-container\"><div class=\"sk-text-repr-fallback\"><pre>KNeighborsClassifier()</pre><b>In a Jupyter environment, please rerun this cell to show the HTML representation or trust the notebook. <br />On GitHub, the HTML representation is unable to render, please try loading this page with nbviewer.org.</b></div><div class=\"sk-container\" hidden><div class=\"sk-item\"><div class=\"sk-estimator sk-toggleable\"><input class=\"sk-toggleable__control sk-hidden--visually\" id=\"sk-estimator-id-1\" type=\"checkbox\" checked><label for=\"sk-estimator-id-1\" class=\"sk-toggleable__label sk-toggleable__label-arrow\">KNeighborsClassifier</label><div class=\"sk-toggleable__content\"><pre>KNeighborsClassifier()</pre></div></div></div></div></div>"
      ],
      "text/plain": [
       "KNeighborsClassifier()"
      ]
     },
     "execution_count": 16,
     "metadata": {},
     "output_type": "execute_result"
    }
   ],
   "source": [
    "from sklearn.neighbors import KNeighborsClassifier\n",
    "\n",
    "# Creamos el clasificador KNN\n",
    "knn = KNeighborsClassifier(n_neighbors=5)  # Puedes ajustar el número de vecinos\n",
    "\n",
    "# Entrenamos el modelo\n",
    "knn.fit(X_train, y_train)\n"
   ]
  },
  {
   "cell_type": "code",
   "execution_count": 17,
   "id": "c233e4cd",
   "metadata": {},
   "outputs": [
    {
     "data": {
      "text/html": [
       "<style>#sk-container-id-2 {color: black;}#sk-container-id-2 pre{padding: 0;}#sk-container-id-2 div.sk-toggleable {background-color: white;}#sk-container-id-2 label.sk-toggleable__label {cursor: pointer;display: block;width: 100%;margin-bottom: 0;padding: 0.3em;box-sizing: border-box;text-align: center;}#sk-container-id-2 label.sk-toggleable__label-arrow:before {content: \"▸\";float: left;margin-right: 0.25em;color: #696969;}#sk-container-id-2 label.sk-toggleable__label-arrow:hover:before {color: black;}#sk-container-id-2 div.sk-estimator:hover label.sk-toggleable__label-arrow:before {color: black;}#sk-container-id-2 div.sk-toggleable__content {max-height: 0;max-width: 0;overflow: hidden;text-align: left;background-color: #f0f8ff;}#sk-container-id-2 div.sk-toggleable__content pre {margin: 0.2em;color: black;border-radius: 0.25em;background-color: #f0f8ff;}#sk-container-id-2 input.sk-toggleable__control:checked~div.sk-toggleable__content {max-height: 200px;max-width: 100%;overflow: auto;}#sk-container-id-2 input.sk-toggleable__control:checked~label.sk-toggleable__label-arrow:before {content: \"▾\";}#sk-container-id-2 div.sk-estimator input.sk-toggleable__control:checked~label.sk-toggleable__label {background-color: #d4ebff;}#sk-container-id-2 div.sk-label input.sk-toggleable__control:checked~label.sk-toggleable__label {background-color: #d4ebff;}#sk-container-id-2 input.sk-hidden--visually {border: 0;clip: rect(1px 1px 1px 1px);clip: rect(1px, 1px, 1px, 1px);height: 1px;margin: -1px;overflow: hidden;padding: 0;position: absolute;width: 1px;}#sk-container-id-2 div.sk-estimator {font-family: monospace;background-color: #f0f8ff;border: 1px dotted black;border-radius: 0.25em;box-sizing: border-box;margin-bottom: 0.5em;}#sk-container-id-2 div.sk-estimator:hover {background-color: #d4ebff;}#sk-container-id-2 div.sk-parallel-item::after {content: \"\";width: 100%;border-bottom: 1px solid gray;flex-grow: 1;}#sk-container-id-2 div.sk-label:hover label.sk-toggleable__label {background-color: #d4ebff;}#sk-container-id-2 div.sk-serial::before {content: \"\";position: absolute;border-left: 1px solid gray;box-sizing: border-box;top: 0;bottom: 0;left: 50%;z-index: 0;}#sk-container-id-2 div.sk-serial {display: flex;flex-direction: column;align-items: center;background-color: white;padding-right: 0.2em;padding-left: 0.2em;position: relative;}#sk-container-id-2 div.sk-item {position: relative;z-index: 1;}#sk-container-id-2 div.sk-parallel {display: flex;align-items: stretch;justify-content: center;background-color: white;position: relative;}#sk-container-id-2 div.sk-item::before, #sk-container-id-2 div.sk-parallel-item::before {content: \"\";position: absolute;border-left: 1px solid gray;box-sizing: border-box;top: 0;bottom: 0;left: 50%;z-index: -1;}#sk-container-id-2 div.sk-parallel-item {display: flex;flex-direction: column;z-index: 1;position: relative;background-color: white;}#sk-container-id-2 div.sk-parallel-item:first-child::after {align-self: flex-end;width: 50%;}#sk-container-id-2 div.sk-parallel-item:last-child::after {align-self: flex-start;width: 50%;}#sk-container-id-2 div.sk-parallel-item:only-child::after {width: 0;}#sk-container-id-2 div.sk-dashed-wrapped {border: 1px dashed gray;margin: 0 0.4em 0.5em 0.4em;box-sizing: border-box;padding-bottom: 0.4em;background-color: white;}#sk-container-id-2 div.sk-label label {font-family: monospace;font-weight: bold;display: inline-block;line-height: 1.2em;}#sk-container-id-2 div.sk-label-container {text-align: center;}#sk-container-id-2 div.sk-container {/* jupyter's `normalize.less` sets `[hidden] { display: none; }` but bootstrap.min.css set `[hidden] { display: none !important; }` so we also need the `!important` here to be able to override the default hidden behavior on the sphinx rendered scikit-learn.org. See: https://github.com/scikit-learn/scikit-learn/issues/21755 */display: inline-block !important;position: relative;}#sk-container-id-2 div.sk-text-repr-fallback {display: none;}</style><div id=\"sk-container-id-2\" class=\"sk-top-container\"><div class=\"sk-text-repr-fallback\"><pre>SVC()</pre><b>In a Jupyter environment, please rerun this cell to show the HTML representation or trust the notebook. <br />On GitHub, the HTML representation is unable to render, please try loading this page with nbviewer.org.</b></div><div class=\"sk-container\" hidden><div class=\"sk-item\"><div class=\"sk-estimator sk-toggleable\"><input class=\"sk-toggleable__control sk-hidden--visually\" id=\"sk-estimator-id-2\" type=\"checkbox\" checked><label for=\"sk-estimator-id-2\" class=\"sk-toggleable__label sk-toggleable__label-arrow\">SVC</label><div class=\"sk-toggleable__content\"><pre>SVC()</pre></div></div></div></div></div>"
      ],
      "text/plain": [
       "SVC()"
      ]
     },
     "execution_count": 17,
     "metadata": {},
     "output_type": "execute_result"
    }
   ],
   "source": [
    "from sklearn.svm import SVC\n",
    "\n",
    "# Creamos el clasificador SVM\n",
    "svm = SVC(kernel='rbf')  # Selecciona el kernel deseado\n",
    "\n",
    "# Entrenamos el modelo\n",
    "svm.fit(X_train, y_train)\n"
   ]
  },
  {
   "cell_type": "code",
   "execution_count": 18,
   "id": "d46c2b9b",
   "metadata": {},
   "outputs": [
    {
     "data": {
      "text/html": [
       "<style>#sk-container-id-3 {color: black;}#sk-container-id-3 pre{padding: 0;}#sk-container-id-3 div.sk-toggleable {background-color: white;}#sk-container-id-3 label.sk-toggleable__label {cursor: pointer;display: block;width: 100%;margin-bottom: 0;padding: 0.3em;box-sizing: border-box;text-align: center;}#sk-container-id-3 label.sk-toggleable__label-arrow:before {content: \"▸\";float: left;margin-right: 0.25em;color: #696969;}#sk-container-id-3 label.sk-toggleable__label-arrow:hover:before {color: black;}#sk-container-id-3 div.sk-estimator:hover label.sk-toggleable__label-arrow:before {color: black;}#sk-container-id-3 div.sk-toggleable__content {max-height: 0;max-width: 0;overflow: hidden;text-align: left;background-color: #f0f8ff;}#sk-container-id-3 div.sk-toggleable__content pre {margin: 0.2em;color: black;border-radius: 0.25em;background-color: #f0f8ff;}#sk-container-id-3 input.sk-toggleable__control:checked~div.sk-toggleable__content {max-height: 200px;max-width: 100%;overflow: auto;}#sk-container-id-3 input.sk-toggleable__control:checked~label.sk-toggleable__label-arrow:before {content: \"▾\";}#sk-container-id-3 div.sk-estimator input.sk-toggleable__control:checked~label.sk-toggleable__label {background-color: #d4ebff;}#sk-container-id-3 div.sk-label input.sk-toggleable__control:checked~label.sk-toggleable__label {background-color: #d4ebff;}#sk-container-id-3 input.sk-hidden--visually {border: 0;clip: rect(1px 1px 1px 1px);clip: rect(1px, 1px, 1px, 1px);height: 1px;margin: -1px;overflow: hidden;padding: 0;position: absolute;width: 1px;}#sk-container-id-3 div.sk-estimator {font-family: monospace;background-color: #f0f8ff;border: 1px dotted black;border-radius: 0.25em;box-sizing: border-box;margin-bottom: 0.5em;}#sk-container-id-3 div.sk-estimator:hover {background-color: #d4ebff;}#sk-container-id-3 div.sk-parallel-item::after {content: \"\";width: 100%;border-bottom: 1px solid gray;flex-grow: 1;}#sk-container-id-3 div.sk-label:hover label.sk-toggleable__label {background-color: #d4ebff;}#sk-container-id-3 div.sk-serial::before {content: \"\";position: absolute;border-left: 1px solid gray;box-sizing: border-box;top: 0;bottom: 0;left: 50%;z-index: 0;}#sk-container-id-3 div.sk-serial {display: flex;flex-direction: column;align-items: center;background-color: white;padding-right: 0.2em;padding-left: 0.2em;position: relative;}#sk-container-id-3 div.sk-item {position: relative;z-index: 1;}#sk-container-id-3 div.sk-parallel {display: flex;align-items: stretch;justify-content: center;background-color: white;position: relative;}#sk-container-id-3 div.sk-item::before, #sk-container-id-3 div.sk-parallel-item::before {content: \"\";position: absolute;border-left: 1px solid gray;box-sizing: border-box;top: 0;bottom: 0;left: 50%;z-index: -1;}#sk-container-id-3 div.sk-parallel-item {display: flex;flex-direction: column;z-index: 1;position: relative;background-color: white;}#sk-container-id-3 div.sk-parallel-item:first-child::after {align-self: flex-end;width: 50%;}#sk-container-id-3 div.sk-parallel-item:last-child::after {align-self: flex-start;width: 50%;}#sk-container-id-3 div.sk-parallel-item:only-child::after {width: 0;}#sk-container-id-3 div.sk-dashed-wrapped {border: 1px dashed gray;margin: 0 0.4em 0.5em 0.4em;box-sizing: border-box;padding-bottom: 0.4em;background-color: white;}#sk-container-id-3 div.sk-label label {font-family: monospace;font-weight: bold;display: inline-block;line-height: 1.2em;}#sk-container-id-3 div.sk-label-container {text-align: center;}#sk-container-id-3 div.sk-container {/* jupyter's `normalize.less` sets `[hidden] { display: none; }` but bootstrap.min.css set `[hidden] { display: none !important; }` so we also need the `!important` here to be able to override the default hidden behavior on the sphinx rendered scikit-learn.org. See: https://github.com/scikit-learn/scikit-learn/issues/21755 */display: inline-block !important;position: relative;}#sk-container-id-3 div.sk-text-repr-fallback {display: none;}</style><div id=\"sk-container-id-3\" class=\"sk-top-container\"><div class=\"sk-text-repr-fallback\"><pre>RandomForestClassifier()</pre><b>In a Jupyter environment, please rerun this cell to show the HTML representation or trust the notebook. <br />On GitHub, the HTML representation is unable to render, please try loading this page with nbviewer.org.</b></div><div class=\"sk-container\" hidden><div class=\"sk-item\"><div class=\"sk-estimator sk-toggleable\"><input class=\"sk-toggleable__control sk-hidden--visually\" id=\"sk-estimator-id-3\" type=\"checkbox\" checked><label for=\"sk-estimator-id-3\" class=\"sk-toggleable__label sk-toggleable__label-arrow\">RandomForestClassifier</label><div class=\"sk-toggleable__content\"><pre>RandomForestClassifier()</pre></div></div></div></div></div>"
      ],
      "text/plain": [
       "RandomForestClassifier()"
      ]
     },
     "execution_count": 18,
     "metadata": {},
     "output_type": "execute_result"
    }
   ],
   "source": [
    "from sklearn.ensemble import RandomForestClassifier\n",
    "\n",
    "# Creamos el clasificador RandomForest\n",
    "rf = RandomForestClassifier(n_estimators=100)  # Puedes ajustar el número de árboles\n",
    "\n",
    "# Entrenamos el modelo\n",
    "rf.fit(X_train, y_train)\n"
   ]
  },
  {
   "cell_type": "markdown",
   "id": "59c7945f",
   "metadata": {},
   "source": [
    "### Paso 4. Evalúe el rendimiento de los modelos (puede usar accuracy) creados en el paso previo, muestre las predicciones realizadas y compare con las etiquetas reales."
   ]
  },
  {
   "cell_type": "code",
   "execution_count": 19,
   "id": "e38cddd1",
   "metadata": {},
   "outputs": [
    {
     "name": "stdout",
     "output_type": "stream",
     "text": [
      "Accuracy KNN: 0.4122137404580153\n",
      "Accuracy SVM: 0.48854961832061067\n",
      "Accuracy RandomForest: 0.37404580152671757\n"
     ]
    }
   ],
   "source": [
    "from sklearn.metrics import accuracy_score\n",
    "\n",
    "# Hacemos predicciones en el conjunto de pruebas\n",
    "knn_pred = knn.predict(X_test)\n",
    "svm_pred = svm.predict(X_test)\n",
    "rf_pred = rf.predict(X_test)\n",
    "\n",
    "# Calculamos la precisión de cada modelo\n",
    "knn_accuracy = accuracy_score(y_test, knn_pred)\n",
    "svm_accuracy = accuracy_score(y_test, svm_pred)\n",
    "rf_accuracy = accuracy_score(y_test, rf_pred)\n",
    "\n",
    "print(f\"Accuracy KNN: {knn_accuracy}\")\n",
    "print(f\"Accuracy SVM: {svm_accuracy}\")\n",
    "print(f\"Accuracy RandomForest: {rf_accuracy}\")\n"
   ]
  },
  {
   "cell_type": "markdown",
   "id": "e2547768",
   "metadata": {},
   "source": [
    "### Paso 5. Debido a que este es un problema de clasificación, pero hay varias clases que son originalmente numéricas, se puede aplicar también una métrica de evaluación para regresión. Aplique el RMSE a las predicciones y las etiquetas reales, analice el resultado."
   ]
  },
  {
   "cell_type": "code",
   "execution_count": 20,
   "id": "7d122133",
   "metadata": {},
   "outputs": [
    {
     "name": "stdout",
     "output_type": "stream",
     "text": [
      "RMSE KNN: 2.4463713586509064\n",
      "RMSE SVM: 2.7587473648199037\n",
      "RMSE RandomForest: 2.5977089142268106\n"
     ]
    }
   ],
   "source": [
    "from sklearn.metrics import mean_squared_error\n",
    "\n",
    "# Calculamos el RMSE para cada modelo\n",
    "knn_rmse = np.sqrt(mean_squared_error(y_test, knn_pred))\n",
    "svm_rmse = np.sqrt(mean_squared_error(y_test, svm_pred))\n",
    "rf_rmse = np.sqrt(mean_squared_error(y_test, rf_pred))\n",
    "\n",
    "print(f\"RMSE KNN: {knn_rmse}\")\n",
    "print(f\"RMSE SVM: {svm_rmse}\")\n",
    "print(f\"RMSE RandomForest: {rf_rmse}\")\n"
   ]
  },
  {
   "cell_type": "markdown",
   "id": "b6db1872",
   "metadata": {},
   "source": [
    "### Paso 6. Utilice el modelo que se comportó mejor para predecir el \"Rating\" de las filas que tienen ese dato nulo, revise manualmente si la calificación predicha es consistente con el comentario en la reseña."
   ]
  },
  {
   "cell_type": "code",
   "execution_count": null,
   "id": "6b9833ee",
   "metadata": {},
   "outputs": [],
   "source": []
  },
  {
   "cell_type": "code",
   "execution_count": 46,
   "id": "fb46704d",
   "metadata": {
    "scrolled": true
   },
   "outputs": [
    {
     "name": "stderr",
     "output_type": "stream",
     "text": [
      "/var/folders/71/t21_vzf53mlc0lg8vgrh9gvw0000gn/T/ipykernel_5693/2484187244.py:7: SettingWithCopyWarning: \n",
      "A value is trying to be set on a copy of a slice from a DataFrame.\n",
      "Try using .loc[row_indexer,col_indexer] = value instead\n",
      "\n",
      "See the caveats in the documentation: https://pandas.pydata.org/pandas-docs/stable/user_guide/indexing.html#returning-a-view-versus-a-copy\n",
      "  df_sin_nulos['Predicted_Rating'] = predicted_ratings\n"
     ]
    },
    {
     "data": {
      "text/html": [
       "<div>\n",
       "<style scoped>\n",
       "    .dataframe tbody tr th:only-of-type {\n",
       "        vertical-align: middle;\n",
       "    }\n",
       "\n",
       "    .dataframe tbody tr th {\n",
       "        vertical-align: top;\n",
       "    }\n",
       "\n",
       "    .dataframe thead th {\n",
       "        text-align: right;\n",
       "    }\n",
       "</style>\n",
       "<table border=\"1\" class=\"dataframe\">\n",
       "  <thead>\n",
       "    <tr style=\"text-align: right;\">\n",
       "      <th></th>\n",
       "      <th>Title</th>\n",
       "      <th>Rating</th>\n",
       "      <th>Predicted_Rating</th>\n",
       "    </tr>\n",
       "  </thead>\n",
       "  <tbody>\n",
       "    <tr>\n",
       "      <th>0</th>\n",
       "      <td>Never seen the anime and still enjoyed it</td>\n",
       "      <td>8.0</td>\n",
       "      <td>9.0</td>\n",
       "    </tr>\n",
       "    <tr>\n",
       "      <th>1</th>\n",
       "      <td>Not My Kind of Show. But This I Loved.</td>\n",
       "      <td>9.0</td>\n",
       "      <td>9.0</td>\n",
       "    </tr>\n",
       "    <tr>\n",
       "      <th>2</th>\n",
       "      <td>I'm Shocked By How Good This Is...</td>\n",
       "      <td>9.0</td>\n",
       "      <td>9.0</td>\n",
       "    </tr>\n",
       "    <tr>\n",
       "      <th>3</th>\n",
       "      <td>See Netflix?? You CAN do it...</td>\n",
       "      <td>10.0</td>\n",
       "      <td>9.0</td>\n",
       "    </tr>\n",
       "    <tr>\n",
       "      <th>4</th>\n",
       "      <td>WE WANT SEASON 2</td>\n",
       "      <td>10.0</td>\n",
       "      <td>10.0</td>\n",
       "    </tr>\n",
       "    <tr>\n",
       "      <th>...</th>\n",
       "      <td>...</td>\n",
       "      <td>...</td>\n",
       "      <td>...</td>\n",
       "    </tr>\n",
       "    <tr>\n",
       "      <th>65</th>\n",
       "      <td>For an anime live action, it's above standards</td>\n",
       "      <td>7.0</td>\n",
       "      <td>7.0</td>\n",
       "    </tr>\n",
       "    <tr>\n",
       "      <th>66</th>\n",
       "      <td>One Giant Piece Of TRASH</td>\n",
       "      <td>2.0</td>\n",
       "      <td>2.0</td>\n",
       "    </tr>\n",
       "    <tr>\n",
       "      <th>67</th>\n",
       "      <td>LIVE ACTION JUSTICE!!!!!!!!</td>\n",
       "      <td>10.0</td>\n",
       "      <td>10.0</td>\n",
       "    </tr>\n",
       "    <tr>\n",
       "      <th>68</th>\n",
       "      <td>\"Take the original and make it your own\" done ...</td>\n",
       "      <td>10.0</td>\n",
       "      <td>10.0</td>\n",
       "    </tr>\n",
       "    <tr>\n",
       "      <th>69</th>\n",
       "      <td>I felt a little kid again after watching this ...</td>\n",
       "      <td>8.0</td>\n",
       "      <td>8.0</td>\n",
       "    </tr>\n",
       "  </tbody>\n",
       "</table>\n",
       "<p>70 rows × 3 columns</p>\n",
       "</div>"
      ],
      "text/plain": [
       "                                                Title  Rating  \\\n",
       "0           Never seen the anime and still enjoyed it     8.0   \n",
       "1              Not My Kind of Show. But This I Loved.     9.0   \n",
       "2                  I'm Shocked By How Good This Is...     9.0   \n",
       "3                      See Netflix?? You CAN do it...    10.0   \n",
       "4                                    WE WANT SEASON 2    10.0   \n",
       "..                                                ...     ...   \n",
       "65     For an anime live action, it's above standards     7.0   \n",
       "66                           One Giant Piece Of TRASH     2.0   \n",
       "67                        LIVE ACTION JUSTICE!!!!!!!!    10.0   \n",
       "68  \"Take the original and make it your own\" done ...    10.0   \n",
       "69  I felt a little kid again after watching this ...     8.0   \n",
       "\n",
       "    Predicted_Rating  \n",
       "0                9.0  \n",
       "1                9.0  \n",
       "2                9.0  \n",
       "3                9.0  \n",
       "4               10.0  \n",
       "..               ...  \n",
       "65               7.0  \n",
       "66               2.0  \n",
       "67              10.0  \n",
       "68              10.0  \n",
       "69               8.0  \n",
       "\n",
       "[70 rows x 3 columns]"
      ]
     },
     "metadata": {},
     "output_type": "display_data"
    }
   ],
   "source": [
    "predicted_ratings = rf.predict(X)  # Predicciones del modelo RandomForest\n",
    "\n",
    "# Eliminamos filas con datos nulos\n",
    "df_sin_nulos = df.dropna()\n",
    "\n",
    "# Agregamos las predicciones al dataframe original\n",
    "df_sin_nulos['Predicted_Rating'] = predicted_ratings\n",
    "\n",
    "# Revisamos los resultados\n",
    "display(df_sin_nulos[['Title','Rating', 'Predicted_Rating']].head(70))\n"
   ]
  },
  {
   "cell_type": "markdown",
   "id": "d27ed148",
   "metadata": {},
   "source": [
    "### Paso 7. Escriba sus conclusiones al respecto."
   ]
  },
  {
   "cell_type": "markdown",
   "id": "afd71288",
   "metadata": {},
   "source": [
    "El modelo Random Forest ha demostrado un RMSE relativamente bajo, lo que indica que las predicciones tienden a desviarse menos de las etiquetas reales en comparación con KNN y SVM. Sin embargo, cada modelo tiene sus fortalezas y debilidades según la naturaleza del conjunto de datos."
   ]
  },
  {
   "cell_type": "markdown",
   "id": "d36c77cc",
   "metadata": {},
   "source": [
    "## ETAPA 4: PRESENTACIÓN DEL PROYECTO.\n",
    "### Al igual que en los proyectos anteriores, suba su trabajo terminado a un repositorio nuevo de su GitHub.\n",
    "### Escriba un archivo \"README\" y describa el proceso seguido en este trabajo.\n",
    "### Al entregar este trabajo, debe subir este archivo, el archivo de instrucciones y el enlace al repositorio público de GitHub con este trabajo."
   ]
  }
 ],
 "metadata": {
  "kernelspec": {
   "display_name": "Python 3 (ipykernel)",
   "language": "python",
   "name": "python3"
  },
  "language_info": {
   "codemirror_mode": {
    "name": "ipython",
    "version": 3
   },
   "file_extension": ".py",
   "mimetype": "text/x-python",
   "name": "python",
   "nbconvert_exporter": "python",
   "pygments_lexer": "ipython3",
   "version": "3.11.5"
  }
 },
 "nbformat": 4,
 "nbformat_minor": 5
}
